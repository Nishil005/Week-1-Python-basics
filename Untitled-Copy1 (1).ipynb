{
 "cells": [
  {
   "cell_type": "markdown",
   "id": "fe184eef-4539-42b4-82fe-229cd2b95050",
   "metadata": {},
   "source": [
    "Q1. Create one variable containing following type of data:\n",
    "\n",
    "(i)\tstring\n",
    "\n",
    "(ii)\tlist\n",
    "\n",
    "(iii)\tfloat\n",
    "\n",
    "(iv)\ttuple"
   ]
  },
  {
   "cell_type": "code",
   "execution_count": 1,
   "id": "c7b49ab4-1d6b-48cf-8ae6-0790bb204ee8",
   "metadata": {},
   "outputs": [],
   "source": [
    "a = 'Nishil'"
   ]
  },
  {
   "cell_type": "code",
   "execution_count": 2,
   "id": "4fdb9ece-821f-46f1-85cc-cd06c8d2eecb",
   "metadata": {},
   "outputs": [
    {
     "data": {
      "text/plain": [
       "list"
      ]
     },
     "execution_count": 2,
     "metadata": {},
     "output_type": "execute_result"
    }
   ],
   "source": [
    "b = [1,2.34,'Nishil',True]\n",
    "type(b)"
   ]
  },
  {
   "cell_type": "code",
   "execution_count": 3,
   "id": "79706425-cb63-49bf-8a54-855e58766eef",
   "metadata": {},
   "outputs": [
    {
     "data": {
      "text/plain": [
       "tuple"
      ]
     },
     "execution_count": 3,
     "metadata": {},
     "output_type": "execute_result"
    }
   ],
   "source": [
    "c = 2.45\n",
    "d = ('radhika','nylon','tyson')\n",
    "type(d)"
   ]
  },
  {
   "cell_type": "markdown",
   "id": "82eed556-23e5-4eab-8d23-e3530707bc6c",
   "metadata": {},
   "source": [
    "Q2. Given are some following variables containing data:\n",
    "\n",
    "(i)\tvar1 = ‘ ‘\n",
    "\n",
    "(ii)\tvar2 = ‘[ DS , ML , Python]’\n",
    "\n",
    "(iii)\tvar3 = [ ‘DS’ , ’ML’ , ‘Python’ ]\n",
    "\n",
    "(iv)\tvar4 = 1.\n",
    "What will be the data type of the above given variable."
   ]
  },
  {
   "cell_type": "code",
   "execution_count": 9,
   "id": "b250b2e6-d504-407d-a56c-6ad2e3a0defe",
   "metadata": {},
   "outputs": [],
   "source": [
    "var1 = ' '"
   ]
  },
  {
   "cell_type": "code",
   "execution_count": null,
   "id": "a9f145e0-0789-4c66-b25e-823e48c44a1b",
   "metadata": {},
   "outputs": [],
   "source": [
    "var2 = '[ DS , ML , Python]'"
   ]
  },
  {
   "cell_type": "code",
   "execution_count": null,
   "id": "b380c18b-8fce-4124-bfc6-bb44b5fe7344",
   "metadata": {},
   "outputs": [],
   "source": [
    "var3 = [ 'DS' , 'ML' , 'Python' ]"
   ]
  },
  {
   "cell_type": "code",
   "execution_count": 7,
   "id": "5994e9e2-5652-4266-b0be-d31545bbe946",
   "metadata": {},
   "outputs": [],
   "source": [
    "var4 = 1."
   ]
  },
  {
   "cell_type": "code",
   "execution_count": 8,
   "id": "439007aa-ec82-4790-9b65-cc8e4966d36d",
   "metadata": {},
   "outputs": [
    {
     "data": {
      "text/plain": [
       "float"
      ]
     },
     "execution_count": 8,
     "metadata": {},
     "output_type": "execute_result"
    }
   ],
   "source": [
    "type(var4)"
   ]
  },
  {
   "cell_type": "markdown",
   "id": "c3f693e1-2113-477d-a00d-9711dd8b429d",
   "metadata": {},
   "source": [
    "type(var1)"
   ]
  },
  {
   "cell_type": "markdown",
   "id": "3b359f4c-d1bf-4042-96eb-74be65358b24",
   "metadata": {},
   "source": [
    "type(var3)"
   ]
  },
  {
   "cell_type": "markdown",
   "id": "ece5d4d0-fecd-4ffc-a2a2-266b3191ff07",
   "metadata": {},
   "source": [
    "var1 is a string\n",
    "var2,3 are not in a proper syntax\n",
    "var4 is a float"
   ]
  },
  {
   "cell_type": "markdown",
   "id": "fe8b7ff4-46fb-4d84-a560-383b7e1f559d",
   "metadata": {},
   "source": [
    "Q3. Explain the use of the following operators using an example:\n",
    "\n",
    "(i)\t/       Division  22 / 8 = 2.75\n",
    "\n",
    "(ii) %     Modulus    22 % 8 = 6\n",
    "\n",
    "(iii) //   Integer division/Floored quotient  22 // 8 = 2\n",
    "\n",
    "(iv) **    Power 2**3 = 8"
   ]
  },
  {
   "cell_type": "markdown",
   "id": "a309eb4f-d62c-41db-88f8-f2dddaff7a21",
   "metadata": {},
   "source": [
    "Q4. Create a list of length 10 of your choice containing multiple types of data. Using for loop print the \n",
    "element and its data type."
   ]
  },
  {
   "cell_type": "code",
   "execution_count": 31,
   "id": "aab157c9-4c01-4b28-828f-4bea8c3a8bea",
   "metadata": {},
   "outputs": [
    {
     "name": "stdout",
     "output_type": "stream",
     "text": [
      "<class 'int'>\n",
      "1\n",
      "<class 'int'>\n",
      "2\n",
      "<class 'int'>\n",
      "3\n",
      "<class 'int'>\n",
      "4\n",
      "<class 'int'>\n",
      "5\n",
      "<class 'int'>\n",
      "6\n",
      "<class 'int'>\n",
      "7\n",
      "<class 'float'>\n",
      "7.23\n",
      "<class 'float'>\n",
      "8.9\n",
      "<class 'float'>\n",
      "10.0\n",
      "this will be executed once for loop will comoplete itself succefully\n"
     ]
    }
   ],
   "source": [
    "l = [1,2,3,4,5,6,7,7.23,8.90,10.0]\n",
    "for i in l : \n",
    "    print(type(i))\n",
    "    if i == 11 :\n",
    "        continue\n",
    "    print(i)\n",
    "else :\n",
    "    print(\"this will be executed once for loop will comoplete itself succefully\")"
   ]
  },
  {
   "cell_type": "markdown",
   "id": "29d893a4-f734-407a-b1ba-783ee583d354",
   "metadata": {},
   "source": [
    "Q5. Using a while loop, verify if the number A is purely divisible by number B and if so then how many \n",
    "times it can be divisible."
   ]
  },
  {
   "cell_type": "code",
   "execution_count": 37,
   "id": "e5db16b4-d8f4-40b0-b885-6013e9c94069",
   "metadata": {},
   "outputs": [
    {
     "name": "stdin",
     "output_type": "stream",
     "text": [
      "Enter a number A:  5\n",
      "Enter a number B:  6255\n"
     ]
    },
    {
     "name": "stdout",
     "output_type": "stream",
     "text": [
      "A is not divisible by B\n"
     ]
    }
   ],
   "source": [
    "a = int(input('Enter a number A: '))\n",
    "b = int(input('Enter a number B: '))\n",
    "count = 0\n",
    "while a%b==0:\n",
    "     a=a/b\n",
    "     count += 1\n",
    "if count > 0:\n",
    "    print(f\"A is divisible by B and can be divided {count} times\")\n",
    "else:\n",
    "    print(\"A is not divisible by B\")"
   ]
  },
  {
   "cell_type": "markdown",
   "id": "f6093263-281f-4857-bdb6-1c990033a50d",
   "metadata": {},
   "source": [
    "Q6. Create a list containing 25 int type data. Using for loop and if-else condition print if the element is \n",
    "divisible by 3 or not"
   ]
  },
  {
   "cell_type": "code",
   "execution_count": 51,
   "id": "9537b0eb-f666-4641-924a-064a1b46316e",
   "metadata": {},
   "outputs": [
    {
     "name": "stdout",
     "output_type": "stream",
     "text": [
      "2 is not divisible by 3\n",
      "6 is divisible by 3\n",
      "7 is not divisible by 3\n",
      "9 is divisible by 3\n",
      "10 is not divisible by 3\n",
      "12 is divisible by 3\n",
      "14 is not divisible by 3\n",
      "15 is divisible by 3\n",
      "18 is divisible by 3\n",
      "19 is not divisible by 3\n",
      "20 is not divisible by 3\n",
      "21 is divisible by 3\n",
      "22 is not divisible by 3\n",
      "24 is divisible by 3\n",
      "25 is not divisible by 3\n",
      "27 is divisible by 3\n",
      "30 is divisible by 3\n",
      "33 is divisible by 3\n",
      "35 is not divisible by 3\n",
      "36 is divisible by 3\n",
      "40 is not divisible by 3\n",
      "42 is divisible by 3\n",
      "45 is divisible by 3\n",
      "48 is divisible by 3\n",
      "50 is not divisible by 3\n"
     ]
    }
   ],
   "source": [
    "my_list = [2, 6, 7, 9, 10, 12, 14, 15, 18, 19, 20, 21, 22, 24, 25, 27, 30, 33, 35, 36, 40, 42, 45, 48, 50]\n",
    "for num in my_list:\n",
    "    if num % 3 == 0:\n",
    "        print(f\"{num} is divisible by 3\")\n",
    "    else:\n",
    "        print(f\"{num} is not divisible by 3\")\n"
   ]
  },
  {
   "cell_type": "markdown",
   "id": "b80215a9-97ec-4b3e-8937-051ab5424dc6",
   "metadata": {},
   "source": [
    " What do you understand about mutable and immutable data types? Give examples for both showing \n",
    "this property\n",
    "\n",
    "List and string are different in an important way, a list value is a mutable data type. It can have values added, remove or changed. However, a string is immutable. It cannot be changed. Trying to reassign a single character in a string result in a. TypeError."
   ]
  },
  {
   "cell_type": "code",
   "execution_count": 54,
   "id": "6f086ed9-7ea4-4c32-bff5-1d2e024b1e6d",
   "metadata": {},
   "outputs": [
    {
     "name": "stdout",
     "output_type": "stream",
     "text": [
      "yt\n"
     ]
    }
   ],
   "source": [
    "name = 'nishil'\n",
    "name = 'yt'\n",
    "print(name)"
   ]
  },
  {
   "cell_type": "code",
   "execution_count": null,
   "id": "48a0ee36-55c8-4642-9b7c-3a177e19cda4",
   "metadata": {},
   "outputs": [],
   "source": []
  }
 ],
 "metadata": {
  "kernelspec": {
   "display_name": "Python 3 (ipykernel)",
   "language": "python",
   "name": "python3"
  },
  "language_info": {
   "codemirror_mode": {
    "name": "ipython",
    "version": 3
   },
   "file_extension": ".py",
   "mimetype": "text/x-python",
   "name": "python",
   "nbconvert_exporter": "python",
   "pygments_lexer": "ipython3",
   "version": "3.10.8"
  }
 },
 "nbformat": 4,
 "nbformat_minor": 5
}
